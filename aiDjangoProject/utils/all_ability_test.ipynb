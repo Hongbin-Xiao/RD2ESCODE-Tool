{
 "cells": [
  {
   "cell_type": "code",
   "id": "initial_id",
   "metadata": {
    "collapsed": true,
    "ExecuteTime": {
     "end_time": "2025-06-19T07:10:33.640308Z",
     "start_time": "2025-06-19T07:10:33.630314Z"
    }
   },
   "source": [
    "import json\n",
    "import os\n",
    "import re\n",
    "import importlib\n",
    "from openai import OpenAI\n",
    "import testProgrem\n",
    "importlib.reload(testProgrem)\n",
    "from testProgrem import autotest\n",
    "import test1_code_ge\n",
    "importlib.reload(test1_code_ge)\n",
    "autotest = autotest()\n"
   ],
   "outputs": [],
   "execution_count": 15
  },
  {
   "metadata": {
    "ExecuteTime": {
     "end_time": "2025-06-19T07:05:54.874766Z",
     "start_time": "2025-06-19T07:05:54.867738Z"
    }
   },
   "cell_type": "code",
   "source": "\"autotest = autotest()\"+'asdasd'",
   "id": "6725147cf5f2f70e",
   "outputs": [
    {
     "data": {
      "text/plain": [
       "'autotest = autotest()asdasd'"
      ]
     },
     "execution_count": 12,
     "metadata": {},
     "output_type": "execute_result"
    }
   ],
   "execution_count": 12
  },
  {
   "metadata": {
    "ExecuteTime": {
     "end_time": "2025-06-06T07:28:11.941203Z",
     "start_time": "2025-06-06T07:28:11.765047Z"
    }
   },
   "cell_type": "code",
   "source": "i1,i2,i3 =autotest.start('./C51_codes/structural.c','./C51_codes/','./C52_codes/')",
   "id": "84e1f297118cab48",
   "outputs": [],
   "execution_count": 13
  },
  {
   "metadata": {
    "ExecuteTime": {
     "end_time": "2025-06-19T07:07:06.354815Z",
     "start_time": "2025-06-19T07:06:38.290888Z"
    }
   },
   "cell_type": "code",
   "source": [
    "a1 = test1_code_ge.test1_with_compile_feedback(compile_path = \"./C53/\",\n",
    "    save_path = './C54/',\n",
    "    jason_path = './C54/')#########初始生成"
   ],
   "id": "288f1daa2a624d43",
   "outputs": [
    {
     "name": "stdout",
     "output_type": "stream",
     "text": [
      "代码已保存为./C53/output.c\n",
      "编译通过！\n",
      "没有生成通过编译的代码，保存原本对话内容。\n"
     ]
    }
   ],
   "execution_count": 13
  },
  {
   "metadata": {
    "ExecuteTime": {
     "end_time": "2025-06-19T07:11:08.723443Z",
     "start_time": "2025-06-19T07:10:36.026384Z"
    }
   },
   "cell_type": "code",
   "source": [
    "t2 =  test1_code_ge.reference_code_ge(path2='./土壤湿度自动浇花.txt',model_name='gpt-4.1',\n",
    "                                      compile_path='./C53/',\n",
    "                                      save_path='./C54/',\n",
    "                                      jason_path = './C54/')########参考代码生成"
   ],
   "id": "1a7227910a7e5379",
   "outputs": [
    {
     "name": "stdout",
     "output_type": "stream",
     "text": [
      "structural.c 已保存到 ./C53/structural.c\n",
      "modular.c 已保存到 ./C53/modular.c\n",
      "procedural.c 已保存到 ./C53/procedural.c\n"
     ]
    }
   ],
   "execution_count": 16
  },
  {
   "metadata": {
    "ExecuteTime": {
     "end_time": "2025-06-19T07:14:12.911244Z",
     "start_time": "2025-06-19T07:13:49.012978Z"
    }
   },
   "cell_type": "code",
   "source": [
    "t3=test1_code_ge.suggestion_fix_code(\n",
    "    path4='./C53/output.c',\n",
    "    path1='./C53/modular.c',\n",
    "    path2='./C53/structural.c',\n",
    "    path3='./C53/procedural.c',\n",
    "    model_name='gpt-4.1',\n",
    ")###############代码修改建议生成"
   ],
   "id": "49a83272118923dc",
   "outputs": [],
   "execution_count": 17
  },
  {
   "metadata": {
    "ExecuteTime": {
     "end_time": "2025-06-19T07:15:03.719859Z",
     "start_time": "2025-06-19T07:14:46.296074Z"
    }
   },
   "cell_type": "code",
   "source": [
    "t4 = test1_code_ge.test1_fix_with_compile_feedback(t3,model_name='gpt-4.1',compile_path='./C53/',\n",
    "                                      save_path='./C54/',jason_path = './C54/')#############代码修改后生成"
   ],
   "id": "ea1f68df6ff2ee49",
   "outputs": [
    {
     "name": "stdout",
     "output_type": "stream",
     "text": [
      "已加载的对话历史：\n",
      "代码已保存为./C53/output.c\n",
      "编译通过！\n",
      "没有生成通过编译的代码，保存原本对话内容。\n"
     ]
    }
   ],
   "execution_count": 18
  },
  {
   "metadata": {
    "ExecuteTime": {
     "end_time": "2025-06-19T07:15:21.301492Z",
     "start_time": "2025-06-19T07:15:21.296903Z"
    }
   },
   "cell_type": "code",
   "source": [
    "from pathlib import Path\n",
    "\n",
    "compile_path= Path(settings.MEDIA_ROOT )/ 'compile'"
   ],
   "id": "3b600e19212e1009",
   "outputs": [
    {
     "name": "stdout",
     "output_type": "stream",
     "text": [
      "```code\n",
      "#include <reg52.h>\n",
      "#include <intrins.h>\n",
      "\n",
      "//------------------------- 端口定义 ---------------------------\n",
      "sbit ADC_CS  = P1^0;     // ADC0832 CS\n",
      "sbit ADC_SCK = P1^2;     // ADC0832 SCL\n",
      "sbit ADC_DO  = P1^3;     // ADC0832 DO\n",
      "\n",
      "sbit KEY_SET    = P1^4;  // 设置键\n",
      "sbit KEY_INC    = P1^5;  // 增加键\n",
      "sbit KEY_DEC    = P1^6;  // 减小键\n",
      "sbit KEY_MANUAL = P1^7;  // 手动控制键\n",
      "\n",
      "sbit SMG_WE1 = P2^0;\n",
      "sbit SMG_WE2 = P2^2;\n",
      "sbit SMG_WE3 = P2^4;\n",
      "sbit SMG_WE4 = P2^6;\n",
      "\n",
      "sbit RELAY = P3^5;       // 水泵控制（继电器）\n",
      "\n",
      "\n",
      "//------------------------- 类型定义 -------------------------\n",
      "typedef unsigned char uchar;\n",
      "typedef unsigned int  uint;\n",
      "\n",
      "\n",
      "//----------------------- 全局变量 --------------------------\n",
      "uchar dis_smg[4] = {0xff,0xff,0xff,0xff}; // 数码管显示缓存，每位为段码\n",
      "uchar shidu = 0;        // 当前湿度(0-99)\n",
      "uchar s_high = 70;      // 上限(可调)\n",
      "uchar s_low  = 25;      // 下限(可调)\n",
      "uchar menu_1 = 0;       // 0:正常显示; 1:设置上限; 2:设置下限\n",
      "uchar key_can = 20;     // 按键处理标志\n",
      "bit   relay_state = 0;  // 1=泵启,0=停\n",
      "\n",
      "uchar flag_200ms = 0;   // 200ms节拍\n",
      "\n",
      "//------------------ 段码表(0-9,L,H,下划线,空) -----------------\n",
      "unsigned char code smg_du[] = {\n",
      "    0xc0,0xf9,0xa4,0xb0,0x99,0x92,0x82,0xf8,0x80,0x90, // 0~9\n",
      "    0xa1, // L\n",
      "    0x8b, // H\n",
      "    0xc7, // 下划线\n",
      "    0xff  // 空\n",
      "};\n",
      "\n",
      "//-------------------- 基本延时--------------\n",
      "void delay_ms(uint ms)\n",
      "{\n",
      "    uint i,j;\n",
      "    for(i=0;i<ms;i++)\n",
      "        for(j=120;j>0;j--);\n",
      "}\n",
      "\n",
      "//-------------------- ADC0832接口函数 ---------------------\n",
      "void ADC_Delay(void)\n",
      "{\n",
      "    _nop_();_nop_();\n",
      "}\n",
      "\n",
      "// ADC0832读取8位数据\n",
      "uchar adc0832_read(void)\n",
      "{\n",
      "    uchar i,dat = 0;\n",
      "    ADC_CS = 0; ADC_SCK = 0; ADC_Delay();\n",
      "    ADC_SCK = 1; ADC_Delay(); //启动脉冲\n",
      "    ADC_SCK = 0; ADC_Delay();\n",
      "    ADC_SCK = 1; ADC_Delay();\n",
      "    ADC_SCK = 0; ADC_Delay();\n",
      "    ADC_SCK = 1; ADC_Delay();\n",
      "    ADC_SCK = 0; ADC_Delay();\n",
      "    // CH0\n",
      "    ADC_SCK = 1; ADC_Delay();\n",
      "    ADC_SCK = 0; ADC_Delay();\n",
      "    // 读8位\n",
      "    for(i=0;i<8;i++)\n",
      "    {\n",
      "        dat <<= 1;\n",
      "        ADC_SCK = 1;ADC_Delay();\n",
      "        if(ADC_DO) dat |= 0x01;\n",
      "        ADC_SCK = 0;ADC_Delay();\n",
      "    }\n",
      "    ADC_CS = 1;\n",
      "    ADC_SCK = 1;\n",
      "    return dat;\n",
      "}\n",
      "\n",
      "// 湿度采集(0-99线性映射)\n",
      "uchar get_humidity(void)\n",
      "{\n",
      "    uint advalue = adc0832_read();\n",
      "    return (uchar)(((uint)advalue) * 99 / 255);\n",
      "}\n",
      "\n",
      "//-------------------- 按键扫描(优先/独立消抖) ---------------\n",
      "uchar key_scan(void)\n",
      "{\n",
      "    if(KEY_SET==0){ delay_ms(1); if(KEY_SET==0){ while(KEY_SET==0); return 1; } }\n",
      "    if(KEY_INC==0){ delay_ms(1); if(KEY_INC==0){ while(KEY_INC==0); return 2; } }\n",
      "    if(KEY_DEC==0){ delay_ms(1); if(KEY_DEC==0){ while(KEY_DEC==0); return 3; } }\n",
      "    if(KEY_MANUAL==0){ delay_ms(1); if(KEY_MANUAL==0){ while(KEY_MANUAL==0); return 4; } }\n",
      "    return 0;\n",
      "}\n",
      "\n",
      "//------------------- 继电器控制 -----------------------------\n",
      "void relay_ctrl(bit onoff)\n",
      "{\n",
      "    relay_state = onoff;\n",
      "    RELAY = onoff ? 1 : 0;\n",
      "}\n",
      "\n",
      "//------------------- 自动水泵防抖控制 -----------------------\n",
      "void relay_auto_ctrl(void)\n",
      "{\n",
      "    static uchar value=0, value1=0;\n",
      "    if(shidu <= s_low){\n",
      "        value++;\n",
      "        if(value >= 2)\n",
      "        {\n",
      "            value = 2;\n",
      "            relay_ctrl(1);\n",
      "        }\n",
      "    }else value=0;\n",
      "    if(shidu >= s_high){\n",
      "        value1++;\n",
      "        if(value1 >= 2){\n",
      "            value1 = 2;\n",
      "            relay_ctrl(0);\n",
      "        }\n",
      "    }else value1=0;\n",
      "}\n",
      "\n",
      "//------------------- 主显示内容更新 -------------------------\n",
      "void update_display(void)\n",
      "{\n",
      "    uchar v;\n",
      "    if(menu_1 == 0){ // 正常模式:当前湿度(两位)，空，H/L状态\n",
      "        v = shidu;\n",
      "        if(v >= 100) v = 99;\n",
      "        dis_smg[0] = smg_du[v%10];\n",
      "        dis_smg[1] = (v>=10) ? smg_du[v/10] : 0xff;\n",
      "        dis_smg[2] = 0xff;\n",
      "        dis_smg[3] = relay_state ? smg_du[11] : smg_du[10]; // H=开，L=关\n",
      "    }\n",
      "    else if(menu_1 == 1){ // 设置上限\n",
      "        dis_smg[0] = smg_du[s_high%10];\n",
      "        dis_smg[1] = (s_high>=10)?smg_du[s_high/10]:0xff;\n",
      "        dis_smg[2] = smg_du[11]; // H\n",
      "        dis_smg[3] = 0xff;\n",
      "    }\n",
      "    else if(menu_1 == 2){ // 设置下限\n",
      "        dis_smg[0] = smg_du[s_low%10];\n",
      "        dis_smg[1] = (s_low>=10)?smg_du[s_low/10]:0xff;\n",
      "        dis_smg[2] = smg_du[10]; // L\n",
      "        dis_smg[3] = 0xff;\n",
      "    }\n",
      "}\n",
      "\n",
      "//------------------- 菜单/按键处理 ----------------------------\n",
      "void menu_with(void)\n",
      "{\n",
      "    if(key_can == 1) // 设置键\n",
      "    {\n",
      "        menu_1++;\n",
      "        if(menu_1 >= 3) menu_1 = 0;\n",
      "        key_can = 20;\n",
      "        update_display();\n",
      "    }\n",
      "    else if(menu_1 == 0 && key_can == 4) // 手动控制，只能在正常显示状态\n",
      "    {\n",
      "        relay_ctrl(!relay_state); //手动切换\n",
      "        key_can = 20;\n",
      "        update_display();\n",
      "    }\n",
      "    else if(menu_1 == 1) // 设置上限\n",
      "    {\n",
      "        if(key_can == 2)\n",
      "        {\n",
      "            if(s_high < 99) s_high++;\n",
      "            if(s_high <= s_low) s_high = s_low+1;\n",
      "            key_can = 20;\n",
      "            update_display();\n",
      "        }\n",
      "        else if(key_can == 3)\n",
      "        {\n",
      "            if(s_high > 1) s_high--;\n",
      "            if(s_high <= s_low) s_high = s_low+1;\n",
      "            key_can = 20;\n",
      "            update_display();\n",
      "        }\n",
      "    }\n",
      "    else if(menu_1 == 2) // 设置下限\n",
      "    {\n",
      "        if(key_can == 2)\n",
      "        {\n",
      "            if(s_low < 98 && s_low < s_high-1) s_low++;\n",
      "            key_can = 20;\n",
      "            update_display();\n",
      "        }\n",
      "        else if(key_can == 3)\n",
      "        {\n",
      "            if(s_low > 0) s_low--;\n",
      "            if(s_low >= s_high) s_low = s_high-1;\n",
      "            key_can = 20;\n",
      "            update_display();\n",
      "        }\n",
      "    }\n",
      "}\n",
      "\n",
      "//-------------------- 数码管多路扫描 -----------------------------\n",
      "void display(void)\n",
      "{\n",
      "    static uchar i=0;\n",
      "    SMG_WE1=0; SMG_WE2=0; SMG_WE3=0; SMG_WE4=0;\n",
      "    P0 = 0xff;\n",
      "    switch(i)\n",
      "    {\n",
      "        case 0: SMG_WE1=1; P0 = dis_smg[0]; break;\n",
      "        case 1: SMG_WE2=1; P0 = dis_smg[1]; break;\n",
      "        case 2: SMG_WE3=1; P0 = dis_smg[2]; break;\n",
      "        case 3: SMG_WE4=1; P0 = dis_smg[3]; break;\n",
      "    }\n",
      "    i++; if(i>3)i=0;\n",
      "}\n",
      "\n",
      "//----------------- 初始化函数 -------------------------------\n",
      "void system_init(void)\n",
      "{\n",
      "    RELAY = 0;\n",
      "    relay_state = 0;\n",
      "    P0 = 0xff;\n",
      "    SMG_WE1=0; SMG_WE2=0; SMG_WE3=0; SMG_WE4=0;\n",
      "    update_display();\n",
      "}\n",
      "\n",
      "//---------------------- 主程序 -----------------------------\n",
      "void main(void)\n",
      "{\n",
      "    uchar temp;\n",
      "    uint t200 = 0;\n",
      "    system_init();\n",
      "\n",
      "    while(1)\n",
      "    {\n",
      "        // 按键扫描并处理\n",
      "        temp = key_scan();\n",
      "        if(temp && key_can>=10){\n",
      "            key_can = temp;\n",
      "            menu_with();\n",
      "        }\n",
      "\n",
      "        // 200ms节拍\n",
      "        t200++;\n",
      "        if(t200>=200){\n",
      "            t200=0;\n",
      "            flag_200ms = 1;\n",
      "        }\n",
      "\n",
      "        // 数码管扫描\n",
      "        display();\n",
      "\n",
      "        // 200ms事件\n",
      "        if(flag_200ms)\n",
      "        {\n",
      "            flag_200ms = 0;\n",
      "\n",
      "            if(menu_1==0){\n",
      "                shidu = get_humidity();\n",
      "                update_display();\n",
      "                relay_auto_ctrl();\n",
      "            }else\n",
      "                update_display();\n",
      "        }\n",
      "        delay_ms(1); // 主循环微阻塞\n",
      "    }\n",
      "}\n",
      "```\n"
     ]
    }
   ],
   "execution_count": 21
  },
  {
   "metadata": {},
   "cell_type": "code",
   "outputs": [],
   "execution_count": null,
   "source": [
    "\n",
    "\n"
   ],
   "id": "911d61febda4566b"
  }
 ],
 "metadata": {
  "kernelspec": {
   "display_name": "Python 3",
   "language": "python",
   "name": "python3"
  },
  "language_info": {
   "codemirror_mode": {
    "name": "ipython",
    "version": 2
   },
   "file_extension": ".py",
   "mimetype": "text/x-python",
   "name": "python",
   "nbconvert_exporter": "python",
   "pygments_lexer": "ipython2",
   "version": "2.7.6"
  }
 },
 "nbformat": 4,
 "nbformat_minor": 5
}
